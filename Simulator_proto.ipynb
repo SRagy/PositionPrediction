{
 "cells": [
  {
   "cell_type": "code",
   "execution_count": 1,
   "metadata": {},
   "outputs": [],
   "source": [
    "from torch import cos, sin, Tensor\n",
    "from typing import List, Tuple\n",
    "import torch\n",
    "import matplotlib.pyplot as plt"
   ]
  },
  {
   "cell_type": "markdown",
   "metadata": {},
   "source": [
    "# Simulator \n",
    "\n",
    "In this document I will produce a prototype stochastic simulator for the path of a marine vessel. The simulator is a toy, based neither on real physics or real data. It does, however, provide a method to generate fake data upon which I will build a proof-of-principle probabilistic trajectory predictor."
   ]
  },
  {
   "cell_type": "markdown",
   "metadata": {},
   "source": [
    "## Rationale\n",
    "\n",
    "For a real ship, the relevant variables are complicated, depending on everything from hull form to water depth. \n",
    "\n",
    "For my simulator I will only consider rudder angle and velocity. These will be chosen stochastically, with some small assumptions (velocity will tend positive, rudder angle will tend straight). Every ship will be initialised in the same position and with the same orientation. This latter point isn't too ridiculous, since it just amounts to centering the coordinate system over the boat at initialisiation, and hence doesn't actually result in a loss of generality if we assume that the trajectory is invariant to the initial position. This won't always be the case with real ships, which for example, are unlikely to sail into land, but can be a good approximation in some restrictive cases, such as at deep sea."
   ]
  },
  {
   "cell_type": "code",
   "execution_count": 16,
   "metadata": {},
   "outputs": [],
   "source": [
    "import torch\n",
    "from torch import Tensor, cos, sin\n",
    "from typing import List, Tuple\n",
    "\n",
    "def arc_trace_centered(velocity: Tensor, \n",
    "              rudder_angle: Tensor, \n",
    "              time_steps: int = 10,\n",
    "              record_resolution: int = 1) -> Tuple[Tensor, Tensor]:\n",
    "    \"\"\"A function for tracing an arc-segment of a ship's trajectory.\n",
    "    Assumes a coordinate frame which is initially centred on the ship, and rotated so that the\n",
    "    ship is starts with a vertical orientation.\n",
    "\n",
    "    Toy model which assumes the ship always travels along circular arcs where\n",
    "    the arc radius depends purely on rudder angle. When the rudder is straight\n",
    "    takes the limiting case of travelling in a straight line.\n",
    "\n",
    "    Args:\n",
    "        velocity (Tensor): the ship's velocity for the present timestep.\n",
    "        rudder_angle (Tensor): the rudder angle relative to the ship's orientation.\n",
    "        time_step (float): amount of time over which to integrate trajectory.\n",
    "        record_resolution (float): the time resolution with which the position of ship is recorded.\n",
    "\n",
    "    Returns:\n",
    "        A tuple containing \n",
    "        1. The n new points in the ships trajectory, in an nx2 tensor.\n",
    "        2. The new orientation as a scalar torch.tensor.\n",
    "    \"\"\"\n",
    "    assert torch.abs(rudder_angle) <= torch.pi/5, \"abs(rudder_angle) must be <= pi/5\"\n",
    "    assert time_steps%record_resolution==0, \"record_resolution must be a factor of time_steps\"\n",
    "    \n",
    "    # assume a 100 unit turn_radius at 45 degree rudder\n",
    "    turn_radius = 100/torch.tan(rudder_angle)\n",
    "    total_steps = time_steps//record_resolution\n",
    "    position_deltas = []\n",
    "    distances_moved = velocity*record_resolution*torch.arange(1,total_steps+1)\n",
    "    if rudder_angle==0:\n",
    "        zero_x = torch.zeros_like(distances_moved)\n",
    "        return torch.stack([zero_x, distances_moved], dim=1)\n",
    "    else:\n",
    "        subtended_angles = distances_moved/turn_radius\n",
    "        new_positions_x = turn_radius*cos(subtended_angles)-turn_radius\n",
    "        new_positions_y = turn_radius*sin(subtended_angles)\n",
    "        position_deltas = torch.stack([new_positions_x, new_positions_y],dim=1)\n",
    "\n",
    "        return position_deltas, subtended_angles[-1]\n",
    "    \n",
    "def translate_and_rotate_arc(init_position, init_orientation, position_deltas, orientation_delta):\n",
    "    \"\"\"Given an arc in space, \n",
    "\n",
    "    Args:\n",
    "        init_position (_type_): _description_\n",
    "        init_orientation (_type_): _description_\n",
    "        position_deltas (_type_): _description_\n",
    "        orientation_delta (_type_): _description_\n",
    "\n",
    "    Returns:\n",
    "        _type_: _description_\n",
    "    \"\"\"\n",
    "    rotation_matrix = torch.tensor([[cos(init_orientation), -sin(init_orientation)],\n",
    "                                    [sin(init_orientation), cos(init_orientation)]])\n",
    "    \n",
    "    rotated_position_deltas = torch.einsum('ij,kj -> ki', rotation_matrix, position_deltas)\n",
    "\n",
    "    new_positions = init_position + rotated_position_deltas\n",
    "    new_orientation = init_orientation + orientation_delta\n",
    "\n",
    "    return new_positions, new_orientation\n",
    "\n",
    "\n",
    "def arc_trace(orientation: Tensor, \n",
    "              position: Tensor,\n",
    "              velocity: Tensor, \n",
    "              rudder_angle: Tensor, \n",
    "              time_steps: int = 10,\n",
    "              record_resolution: int = 1) -> Tuple[Tensor, Tensor]:\n",
    "    \"\"\"\n",
    "    Generalisation of arc_trace_centered to account for uncentered and rotated coordinate axes.\n",
    "\n",
    "    Traces an arc-segment of a ship's trajectory.\n",
    "    Toy model which assumes the ship always travels along circular arcs where\n",
    "    the arc radius depends purely on rudder angle. When the rudder is straight\n",
    "    takes the limiting case of travelling in a straight line. \n",
    "    \n",
    "    Args:\n",
    "        orientation (Tensor): the ship's angle relative to coordinate axes. \n",
    "        velocity (Tensor): the ship's velocity for the present timestep.\n",
    "        rudder_angle (Tensor): the rudder angle relative to the ship's orientation.\n",
    "        trajectory (List[Tensor]): the trajectory so far, as a list of position coordinates.\n",
    "        time_step (float): amount of time over which to integrate trajectory.\n",
    "        record_resolution (float): the time resolution with which the position of ship is recorded.\n",
    "\n",
    "    Returns:\n",
    "        A tuple containing \n",
    "        1. The new points in the ships trajectory, after time_step has elapsed. The number of points\n",
    "        recorded depends on record_resolution.\n",
    "        2. The new orientation at the end of the arc of the trajectory.\n",
    "    \"\"\"\n",
    "    position_deltas, orientation_delta = arc_trace_centered(velocity, rudder_angle, \n",
    "                                                            time_steps, record_resolution)\n",
    "\n",
    "    new_positions, new_orientation = translate_and_rotate_arc(position, orientation, \n",
    "                                                              position_deltas, orientation_delta)\n",
    "\n",
    "    return new_positions, new_orientation\n"
   ]
  },
  {
   "cell_type": "code",
   "execution_count": 17,
   "metadata": {},
   "outputs": [],
   "source": [
    "def trajectory_plot(trajectory, ax):\n",
    "    trajectory = trajectory.numpy()\n",
    "    trajectory_x = trajectory[:,0]\n",
    "    trajectory_y = trajectory[:,1]\n",
    "    ax.plot(trajectory_x, trajectory_y)\n",
    "    ax.set_aspect('equal')"
   ]
  },
  {
   "cell_type": "code",
   "execution_count": 18,
   "metadata": {},
   "outputs": [],
   "source": [
    "def arc_trace_center_plot(velocity, rudder_angle, time_step, resolution, ax):\n",
    "    trajectory, _ = arc_trace_centered(velocity, rudder_angle, time_step, resolution)\n",
    "    trajectory_plot(trajectory, ax)"
   ]
  },
  {
   "cell_type": "code",
   "execution_count": 20,
   "metadata": {},
   "outputs": [
    {
     "data": {
      "image/png": "[encoded data removed]",
      "text/plain": [
       "<Figure size 576x576 with 1 Axes>"
      ]
     },
     "metadata": {
      "needs_background": "light"
     },
     "output_type": "display_data"
    }
   ],
   "source": [
    "fig, ax = plt.subplots(figsize=(8, 8))\n",
    "\n",
    "arc_trace_center_plot(torch.tensor(7),torch.tensor(torch.pi/8),100, 1, ax)\n",
    "arc_trace_center_plot(torch.tensor(7),-torch.tensor(torch.pi/8),100, 1, ax)"
   ]
  },
  {
   "cell_type": "code",
   "execution_count": 22,
   "metadata": {},
   "outputs": [],
   "source": [
    "def arc_trace_plot(orientation, position, ax):\n",
    "    traj,_ = arc_trace(orientation, position, torch.tensor(7),torch.tensor(torch.pi/8), 100, 1)\n",
    "    trajectory_plot(traj, ax)"
   ]
  },
  {
   "cell_type": "code",
   "execution_count": 24,
   "metadata": {},
   "outputs": [
    {
     "data": {
      "image/png": "[encoded data removed]",
      "text/plain": [
       "<Figure size 576x576 with 1 Axes>"
      ]
     },
     "metadata": {
      "needs_background": "light"
     },
     "output_type": "display_data"
    }
   ],
   "source": [
    "fig, ax = plt.subplots(figsize=(8, 8))\n",
    "\n",
    "arc_trace_plot(torch.tensor(0), torch.tensor([0.,0.]), ax)\n",
    "arc_trace_plot(torch.tensor(0), torch.tensor([0.,50.]), ax)\n",
    "arc_trace_plot(torch.tensor(torch.pi/2), torch.tensor([0.,50.]), ax)"
   ]
  },
  {
   "cell_type": "code",
   "execution_count": 97,
   "metadata": {},
   "outputs": [],
   "source": [
    "theta = torch.tensor(torch.pi/4)\n",
    "rot = torch.tensor([[cos(theta), -sin(theta)], [sin(theta), cos(theta)]])"
   ]
  },
  {
   "cell_type": "code",
   "execution_count": 101,
   "metadata": {},
   "outputs": [],
   "source": [
    "positions = torch.rand(5,2)"
   ]
  },
  {
   "cell_type": "code",
   "execution_count": 104,
   "metadata": {},
   "outputs": [
    {
     "data": {
      "text/plain": [
       "tensor([[ 0.3469,  0.8740],\n",
       "        [-0.0094,  0.8986],\n",
       "        [ 0.5579,  0.7132],\n",
       "        [ 0.3125,  1.0383],\n",
       "        [ 0.3135,  0.3632]])"
      ]
     },
     "execution_count": 104,
     "metadata": {},
     "output_type": "execute_result"
    }
   ],
   "source": [
    "torch.einsum('ij,kj -> ki', rot, positions)"
   ]
  },
  {
   "cell_type": "code",
   "execution_count": 112,
   "metadata": {},
   "outputs": [
    {
     "data": {
      "text/plain": [
       "tensor([[ 0.3469,  0.8740],\n",
       "        [-0.0094,  0.8986],\n",
       "        [ 0.5579,  0.7132],\n",
       "        [ 0.3125,  1.0383],\n",
       "        [ 0.3135,  0.3632]])"
      ]
     },
     "execution_count": 112,
     "metadata": {},
     "output_type": "execute_result"
    }
   ],
   "source": [
    "(rot@(positions.T)).T"
   ]
  },
  {
   "cell_type": "code",
   "execution_count": 123,
   "metadata": {},
   "outputs": [
    {
     "name": "stderr",
     "output_type": "stream",
     "text": [
      "/tmp/ipykernel_1459/3610858227.py:28: UserWarning: To copy construct from a tensor, it is recommended to use sourceTensor.clone().detach() or sourceTensor.clone().detach().requires_grad_(True), rather than torch.tensor(sourceTensor).\n",
      "  assert torch.abs(torch.tensor(rudder_angle)) <= torch.pi/5, \"abs(rudder_angle) must be <= pi/5\"\n"
     ]
    },
    {
     "data": {
      "text/plain": [
       "tensor([[-1.0147e-01,  6.9990e+00],\n",
       "        [-4.0582e-01,  1.3992e+01],\n",
       "        [-9.1277e-01,  2.0974e+01],\n",
       "        [-1.6219e+00,  2.7937e+01],\n",
       "        [-2.5326e+00,  3.4878e+01],\n",
       "        [-3.6441e+00,  4.1788e+01],\n",
       "        [-4.9556e+00,  4.8664e+01],\n",
       "        [-6.4658e+00,  5.5499e+01],\n",
       "        [-8.1735e+00,  6.2287e+01],\n",
       "        [-1.0077e+01,  6.9023e+01],\n",
       "        [-1.2176e+01,  7.5701e+01],\n",
       "        [-1.4467e+01,  8.2315e+01],\n",
       "        [-1.6948e+01,  8.8860e+01],\n",
       "        [-1.9619e+01,  9.5331e+01],\n",
       "        [-2.2476e+01,  1.0172e+02],\n",
       "        [-2.5517e+01,  1.0803e+02],\n",
       "        [-2.8739e+01,  1.1424e+02],\n",
       "        [-3.2141e+01,  1.2036e+02],\n",
       "        [-3.5718e+01,  1.2637e+02],\n",
       "        [-3.9468e+01,  1.3228e+02],\n",
       "        [-4.3388e+01,  1.3808e+02],\n",
       "        [-4.7474e+01,  1.4377e+02],\n",
       "        [-5.1724e+01,  1.4933e+02],\n",
       "        [-5.6133e+01,  1.5477e+02],\n",
       "        [-6.0697e+01,  1.6007e+02],\n",
       "        [-6.5414e+01,  1.6524e+02],\n",
       "        [-7.0279e+01,  1.7028e+02],\n",
       "        [-7.5287e+01,  1.7517e+02],\n",
       "        [-8.0435e+01,  1.7991e+02],\n",
       "        [-8.5719e+01,  1.8450e+02],\n",
       "        [-9.1133e+01,  1.8894e+02],\n",
       "        [-9.6673e+01,  1.9322e+02],\n",
       "        [-1.0234e+02,  1.9733e+02],\n",
       "        [-1.0812e+02,  2.0128e+02],\n",
       "        [-1.1401e+02,  2.0506e+02],\n",
       "        [-1.2000e+02,  2.0867e+02],\n",
       "        [-1.2611e+02,  2.1210e+02],\n",
       "        [-1.3230e+02,  2.1535e+02],\n",
       "        [-1.3859e+02,  2.1843e+02],\n",
       "        [-1.4497e+02,  2.2132e+02],\n",
       "        [-1.5142e+02,  2.2402e+02],\n",
       "        [-1.5796e+02,  2.2653e+02],\n",
       "        [-1.6456e+02,  2.2886e+02],\n",
       "        [-1.7123e+02,  2.3099e+02],\n",
       "        [-1.7795e+02,  2.3293e+02],\n",
       "        [-1.8473e+02,  2.3467e+02],\n",
       "        [-1.9156e+02,  2.3622e+02],\n",
       "        [-1.9843e+02,  2.3756e+02],\n",
       "        [-2.0533e+02,  2.3871e+02],\n",
       "        [-2.1227e+02,  2.3965e+02],\n",
       "        [-2.1923e+02,  2.4040e+02],\n",
       "        [-2.2621e+02,  2.4094e+02],\n",
       "        [-2.3320e+02,  2.4128e+02],\n",
       "        [-2.4020e+02,  2.4142e+02],\n",
       "        [-2.4720e+02,  2.4135e+02],\n",
       "        [-2.5419e+02,  2.4108e+02],\n",
       "        [-2.6118e+02,  2.4061e+02],\n",
       "        [-2.6814e+02,  2.3994e+02],\n",
       "        [-2.7509e+02,  2.3906e+02],\n",
       "        [-2.8200e+02,  2.3799e+02],\n",
       "        [-2.8889e+02,  2.3671e+02],\n",
       "        [-2.9573e+02,  2.3523e+02],\n",
       "        [-3.0253e+02,  2.3356e+02],\n",
       "        [-3.0927e+02,  2.3169e+02],\n",
       "        [-3.1596e+02,  2.2963e+02],\n",
       "        [-3.2259e+02,  2.2737e+02],\n",
       "        [-3.2914e+02,  2.2492e+02],\n",
       "        [-3.3563e+02,  2.2228e+02],\n",
       "        [-3.4203e+02,  2.1946e+02],\n",
       "        [-3.4835e+02,  2.1645e+02],\n",
       "        [-3.5458e+02,  2.1326e+02],\n",
       "        [-3.6072e+02,  2.0989e+02],\n",
       "        [-3.6675e+02,  2.0634e+02],\n",
       "        [-3.7268e+02,  2.0262e+02],\n",
       "        [-3.7850e+02,  1.9873e+02],\n",
       "        [-3.8420e+02,  1.9467e+02],\n",
       "        [-3.8979e+02,  1.9045e+02],\n",
       "        [-3.9525e+02,  1.8607e+02],\n",
       "        [-4.0058e+02,  1.8153e+02],\n",
       "        [-4.0577e+02,  1.7684e+02],\n",
       "        [-4.1083e+02,  1.7200e+02],\n",
       "        [-4.1574e+02,  1.6702e+02],\n",
       "        [-4.2051e+02,  1.6190e+02],\n",
       "        [-4.2513e+02,  1.5664e+02],\n",
       "        [-4.2960e+02,  1.5124e+02],\n",
       "        [-4.3390e+02,  1.4573e+02],\n",
       "        [-4.3804e+02,  1.4008e+02],\n",
       "        [-4.4202e+02,  1.3432e+02],\n",
       "        [-4.4583e+02,  1.2845e+02],\n",
       "        [-4.4947e+02,  1.2247e+02],\n",
       "        [-4.5293e+02,  1.1639e+02],\n",
       "        [-4.5622e+02,  1.1021e+02],\n",
       "        [-4.5932e+02,  1.0394e+02],\n",
       "        [-4.6225e+02,  9.7574e+01],\n",
       "        [-4.6498e+02,  9.1131e+01],\n",
       "        [-4.6753e+02,  8.4612e+01],\n",
       "        [-4.6989e+02,  7.8021e+01],\n",
       "        [-4.7205e+02,  7.1365e+01],\n",
       "        [-4.7403e+02,  6.4649e+01],\n",
       "        [-4.7580e+02,  5.7878e+01]])"
      ]
     },
     "execution_count": 123,
     "metadata": {},
     "output_type": "execute_result"
    }
   ],
   "source": [
    "arc_trace(torch.tensor(0), torch.tensor([0,0]),torch.tensor(7),torch.tensor(torch.pi/8),100)[0]"
   ]
  },
  {
   "cell_type": "code",
   "execution_count": null,
   "metadata": {},
   "outputs": [],
   "source": [
    "plt.plot()"
   ]
  }
 ],
 "metadata": {
  "kernelspec": {
   "display_name": "sbi",
   "language": "python",
   "name": "python3"
  },
  "language_info": {
   "codemirror_mode": {
    "name": "ipython",
    "version": 3
   },
   "file_extension": ".py",
   "mimetype": "text/x-python",
   "name": "python",
   "nbconvert_exporter": "python",
   "pygments_lexer": "ipython3",
   "version": "3.8.2"
  }
 },
 "nbformat": 4,
 "nbformat_minor": 2
}
