{
 "cells": [
  {
   "cell_type": "code",
   "execution_count": 16,
   "metadata": {},
   "outputs": [],
   "source": [
    "from torch import cos, sin, Tensor\n",
    "from typing import List, Tuple\n",
    "import torch"
   ]
  },
  {
   "cell_type": "markdown",
   "metadata": {},
   "source": [
    "# Simulator \n",
    "\n",
    "In this document I will produce a prototype stochastic simulator for the path of a marine vessel. The simulator is a toy, based neither on real physics or real data. It does, however, provide a method to generate fake data upon which I will build a proof-of-principle probabilistic trajectory predictor."
   ]
  },
  {
   "cell_type": "markdown",
   "metadata": {},
   "source": [
    "## Rationale\n",
    "\n",
    "For a real ship, the relevant variables are complicated, depending on everything from hull form to water depth. \n",
    "\n",
    "For my simulator I will only consider rudder angle and velocity. These will be chosen stochastically, with some small assumptions (velocity will tend positive, rudder angle will tend straight). Every ship will be initialised in the same position and with the same orientation. This latter point isn't too ridiculous, since it just amounts to centering the coordinate system over the boat at initialisiation, and hence doesn't actually result in a loss of generality if we assume that the trajectory is invariant to the initial position. This won't always be the case with real ships, which for example, are unlikely to sail into land, but can be a good approximation in some restrictive cases, such as at deep sea."
   ]
  },
  {
   "cell_type": "code",
   "execution_count": 51,
   "metadata": {},
   "outputs": [],
   "source": [
    "def arc_trace_centered(velocity: Tensor, \n",
    "              rudder_angle: Tensor, \n",
    "              time_steps: int = 10,\n",
    "              record_resolution: int = 1) -> List[Tensor]:\n",
    "    \"\"\"A function for tracing an arc-segment of a ship's trajectory.\n",
    "    Toy model which simply assumes that the arc radius depends purely on rudder angle.\n",
    "    Centers the coordinate frame on the ship, and rotates it so the ships starts\n",
    "    with a vertical orientation.\n",
    "    \n",
    "    Args:\n",
    "        velocity (Tensor): the ship's velocity for the present timestep.\n",
    "        rudder_angle (Tensor): the rudder angle relative to the ship's orientation.\n",
    "        time_step (float): amount of time over which to integrate trajectory.\n",
    "        record_resolution (float): the time resolution with which the position of ship is recorded.\n",
    "    \"\"\"\n",
    "    assert torch.abs(torch.tensor(rudder_angle)) <= torch.pi/4, \"abs(rudder_angle) must be <= pi/4\"\n",
    "    assert time_steps%record_resolution==0, \"record_resolution must be a factor of time_steps\"\n",
    "    \n",
    "    # assume a 100 unit arc_radius at 45 degree rudder\n",
    "    arc_radius = 100/torch.tan(rudder_angle)\n",
    "    total_steps = time_steps//record_resolution\n",
    "    position_deltas = []\n",
    "    distances_moved = velocity*record_resolution*torch.arange(1,total_steps+1)\n",
    "    if rudder_angle==0:\n",
    "        zero_x = torch.zeros_like(distances_moved)\n",
    "        return torch.stack([zero_x, distances_moved], dim=1)\n",
    "    else:\n",
    "        subtended_angles = distances_moved/arc_radius\n",
    "        new_positions_x = arc_radius*sin(subtended_angles)\n",
    "        new_positions_y = arc_radius*cos(subtended_angles)\n",
    "        position_deltas = torch.stack([new_positions_x, new_positions_y],dim=1)\n",
    "\n",
    "        return position_deltas    "
   ]
  },
  {
   "cell_type": "code",
   "execution_count": 53,
   "metadata": {},
   "outputs": [
    {
     "name": "stderr",
     "output_type": "stream",
     "text": [
      "/tmp/ipykernel_1459/1417349948.py:16: UserWarning: To copy construct from a tensor, it is recommended to use sourceTensor.clone().detach() or sourceTensor.clone().detach().requires_grad_(True), rather than torch.tensor(sourceTensor).\n",
      "  assert torch.abs(torch.tensor(rudder_angle)) <= torch.pi/4, \"abs(rudder_angle) must be <= pi/4\"\n"
     ]
    },
    {
     "data": {
      "text/plain": [
       "tensor([[  0,   7],\n",
       "        [  0,  14],\n",
       "        [  0,  21],\n",
       "        [  0,  28],\n",
       "        [  0,  35],\n",
       "        [  0,  42],\n",
       "        [  0,  49],\n",
       "        [  0,  56],\n",
       "        [  0,  63],\n",
       "        [  0,  70],\n",
       "        [  0,  77],\n",
       "        [  0,  84],\n",
       "        [  0,  91],\n",
       "        [  0,  98],\n",
       "        [  0, 105],\n",
       "        [  0, 112],\n",
       "        [  0, 119],\n",
       "        [  0, 126],\n",
       "        [  0, 133],\n",
       "        [  0, 140],\n",
       "        [  0, 147],\n",
       "        [  0, 154],\n",
       "        [  0, 161],\n",
       "        [  0, 168],\n",
       "        [  0, 175],\n",
       "        [  0, 182],\n",
       "        [  0, 189],\n",
       "        [  0, 196],\n",
       "        [  0, 203],\n",
       "        [  0, 210],\n",
       "        [  0, 217],\n",
       "        [  0, 224],\n",
       "        [  0, 231],\n",
       "        [  0, 238],\n",
       "        [  0, 245],\n",
       "        [  0, 252],\n",
       "        [  0, 259],\n",
       "        [  0, 266],\n",
       "        [  0, 273],\n",
       "        [  0, 280],\n",
       "        [  0, 287],\n",
       "        [  0, 294],\n",
       "        [  0, 301],\n",
       "        [  0, 308],\n",
       "        [  0, 315],\n",
       "        [  0, 322],\n",
       "        [  0, 329],\n",
       "        [  0, 336],\n",
       "        [  0, 343],\n",
       "        [  0, 350],\n",
       "        [  0, 357],\n",
       "        [  0, 364],\n",
       "        [  0, 371],\n",
       "        [  0, 378],\n",
       "        [  0, 385],\n",
       "        [  0, 392],\n",
       "        [  0, 399],\n",
       "        [  0, 406],\n",
       "        [  0, 413],\n",
       "        [  0, 420],\n",
       "        [  0, 427],\n",
       "        [  0, 434],\n",
       "        [  0, 441],\n",
       "        [  0, 448],\n",
       "        [  0, 455],\n",
       "        [  0, 462],\n",
       "        [  0, 469],\n",
       "        [  0, 476],\n",
       "        [  0, 483],\n",
       "        [  0, 490],\n",
       "        [  0, 497],\n",
       "        [  0, 504],\n",
       "        [  0, 511],\n",
       "        [  0, 518],\n",
       "        [  0, 525],\n",
       "        [  0, 532],\n",
       "        [  0, 539],\n",
       "        [  0, 546],\n",
       "        [  0, 553],\n",
       "        [  0, 560],\n",
       "        [  0, 567],\n",
       "        [  0, 574],\n",
       "        [  0, 581],\n",
       "        [  0, 588],\n",
       "        [  0, 595],\n",
       "        [  0, 602],\n",
       "        [  0, 609],\n",
       "        [  0, 616],\n",
       "        [  0, 623],\n",
       "        [  0, 630],\n",
       "        [  0, 637],\n",
       "        [  0, 644],\n",
       "        [  0, 651],\n",
       "        [  0, 658],\n",
       "        [  0, 665],\n",
       "        [  0, 672],\n",
       "        [  0, 679],\n",
       "        [  0, 686],\n",
       "        [  0, 693],\n",
       "        [  0, 700]])"
      ]
     },
     "execution_count": 53,
     "metadata": {},
     "output_type": "execute_result"
    }
   ],
   "source": [
    "arc_trace_centered(torch.tensor(7),torch.tensor(0),100)"
   ]
  }
 ],
 "metadata": {
  "kernelspec": {
   "display_name": "sbi",
   "language": "python",
   "name": "python3"
  },
  "language_info": {
   "codemirror_mode": {
    "name": "ipython",
    "version": 3
   },
   "file_extension": ".py",
   "mimetype": "text/x-python",
   "name": "python",
   "nbconvert_exporter": "python",
   "pygments_lexer": "ipython3",
   "version": "3.8.2"
  }
 },
 "nbformat": 4,
 "nbformat_minor": 2
}
